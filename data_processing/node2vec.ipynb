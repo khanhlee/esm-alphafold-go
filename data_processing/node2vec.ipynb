{
  "nbformat": 4,
  "nbformat_minor": 0,
  "metadata": {
    "colab": {
      "provenance": []
    },
    "kernelspec": {
      "name": "python3",
      "display_name": "Python 3"
    },
    "language_info": {
      "name": "python"
    }
  },
  "cells": [
    {
      "cell_type": "code",
      "execution_count": null,
      "metadata": {
        "id": "D-g2aOEOqHn3",
        "collapsed": true,
        "colab": {
          "base_uri": "https://localhost:8080/"
        },
        "outputId": "9587348c-02b0-4107-9edb-80b26fc6f9f1"
      },
      "outputs": [
        {
          "output_type": "stream",
          "name": "stdout",
          "text": [
            "Collecting node2vec\n",
            "  Downloading node2vec-0.5.0-py3-none-any.whl.metadata (849 bytes)\n",
            "Requirement already satisfied: gensim<5.0.0,>=4.3.0 in /usr/local/lib/python3.11/dist-packages (from node2vec) (4.3.3)\n",
            "Requirement already satisfied: joblib<2.0.0,>=1.4.0 in /usr/local/lib/python3.11/dist-packages (from node2vec) (1.4.2)\n",
            "Requirement already satisfied: networkx<4.0.0,>=3.1.0 in /usr/local/lib/python3.11/dist-packages (from node2vec) (3.4.2)\n",
            "Requirement already satisfied: numpy<2.0.0,>=1.24.0 in /usr/local/lib/python3.11/dist-packages (from node2vec) (1.26.4)\n",
            "Requirement already satisfied: tqdm<5.0.0,>=4.66.1 in /usr/local/lib/python3.11/dist-packages (from node2vec) (4.67.1)\n",
            "Requirement already satisfied: scipy<1.14.0,>=1.7.0 in /usr/local/lib/python3.11/dist-packages (from gensim<5.0.0,>=4.3.0->node2vec) (1.13.1)\n",
            "Requirement already satisfied: smart-open>=1.8.1 in /usr/local/lib/python3.11/dist-packages (from gensim<5.0.0,>=4.3.0->node2vec) (7.1.0)\n",
            "Requirement already satisfied: wrapt in /usr/local/lib/python3.11/dist-packages (from smart-open>=1.8.1->gensim<5.0.0,>=4.3.0->node2vec) (1.17.2)\n",
            "Downloading node2vec-0.5.0-py3-none-any.whl (7.2 kB)\n",
            "Installing collected packages: node2vec\n",
            "Successfully installed node2vec-0.5.0\n",
            "Requirement already satisfied: networkx in /usr/local/lib/python3.11/dist-packages (3.4.2)\n"
          ]
        }
      ],
      "source": [
        "!pip install node2vec\n",
        "!pip install networkx"
      ]
    },
    {
      "cell_type": "code",
      "source": [
        "import os\n",
        "import argparse\n",
        "import networkx as nx\n",
        "from node2vec import Node2Vec\n",
        "from datetime import datetime"
      ],
      "metadata": {
        "id": "rpfnxv6zqrP0"
      },
      "execution_count": null,
      "outputs": []
    },
    {
      "cell_type": "code",
      "source": [
        "def trans2vec(input_file, ouput_file):\n",
        "  G = nx.read_edgelist(input_file, nodetype= int, data = False, delimiter=\" \")\n",
        "  start = int(datetime.now().strftime(\"%s\"))\n",
        "  print(f\"load edge list: {input_file}, nodes: {G.number_of_nodes()}, edges: {G.number_of_edges()}\")\n",
        "  n2v = Node2Vec(G, dimensions= 128, walk_length= 30, num_walks= 10,  p = 0.8, q = 1.2, workers=1)\n",
        "  model = n2v.fit(window = 10, min_count = 1, batch_words = 128, epochs = 1)\n",
        "  model.wv.save_word2vec_format(output_file)\n",
        "  end = int(datetime.now().strftime(\"%s\"))\n",
        "  print(f\"Save Embeddings! Time Cost:{end - start}s\")"
      ],
      "metadata": {
        "id": "aVRz7afNJxl5"
      },
      "execution_count": null,
      "outputs": []
    },
    {
      "cell_type": "code",
      "source": [
        "#Main\n",
        "file_dir = \"/content/drive/MyDrive/CapstoneProject/Processed/ContactMap_4\"\n",
        "output_dir = \"/content/drive/MyDrive/CapstoneProject/ResidueEmbeddings/Batch_4\"\n",
        "count = 0\n",
        "file_list = os.listdir(file_dir)\n",
        "n = len(file_list)\n",
        "for file_name in file_list:\n",
        "  input_file = file_dir + \"/\" + file_name\n",
        "  output_file = output_dir + \"/\" + \"E-\" + file_name\n",
        "  trans2vec(input_file, output_file)\n",
        "  count += 1\n",
        "  print(f\"---completed {count} / {n}\")\n",
        "print(\"End!\")"
      ],
      "metadata": {
        "id": "W5ScjTDNAcwC",
        "collapsed": true
      },
      "execution_count": null,
      "outputs": []
    },
    {
      "cell_type": "code",
      "source": [],
      "metadata": {
        "id": "dp9392R7EmO5"
      },
      "execution_count": null,
      "outputs": []
    }
  ]
}